{
 "cells": [
  {
   "cell_type": "markdown",
   "id": "596b4ac3",
   "metadata": {},
   "source": [
    "### 상하좌우"
   ]
  },
  {
   "cell_type": "code",
   "execution_count": 3,
   "id": "492f0041",
   "metadata": {},
   "outputs": [],
   "source": [
    "def solution(n):\n",
    "    dx = [-1,1,0,0]\n",
    "    dy = [0,0,-1,1]\n",
    "    x = y = 1\n",
    "    move_types = [\"U\", \"D\", \"L\", \"R\"]\n",
    "    \n",
    "    for plan in plans:\n",
    "        for i in range(len(move_types)):\n",
    "            if plan == move_types[i]:\n",
    "                nx = x + dx[i]\n",
    "                ny = y + dy[i]\n",
    "        \n",
    "        if nx<1 or nx>n or ny<1 or ny>n:\n",
    "            continue\n",
    "        \n",
    "        x, y = nx, ny\n",
    "    print(x,y)"
   ]
  },
  {
   "cell_type": "code",
   "execution_count": 4,
   "id": "bbe56130",
   "metadata": {},
   "outputs": [
    {
     "name": "stdout",
     "output_type": "stream",
     "text": [
      "3 4\n"
     ]
    }
   ],
   "source": [
    "n = 5\n",
    "plans = [\"R\", \"R\", \"R\", \"U\", \"D\", \"D\"]\n",
    "solution(n)"
   ]
  },
  {
   "cell_type": "code",
   "execution_count": 5,
   "id": "1c0178fe",
   "metadata": {},
   "outputs": [],
   "source": [
    "def solution(n, data):\n",
    "    x = y = 1\n",
    "    dx = [0, 0, -1, 1]  \n",
    "    dy = [-1, 1, 0, 0] \n",
    "    \n",
    "    move_types = [\"L\",\"R\", \"U\", \"D\"]\n",
    "    \n",
    "    for i in data:\n",
    "        for j in range(len(move_types)):\n",
    "            if i==move_types[j]:\n",
    "                nx = x + dx[j]\n",
    "                ny = y + dy[j]\n",
    "                \n",
    "        if nx<1 or nx>n or ny<1 or ny>n:\n",
    "            continue\n",
    "        x = nx\n",
    "        y = ny\n",
    "    return x, y"
   ]
  },
  {
   "cell_type": "code",
   "execution_count": 6,
   "id": "7018f6f9",
   "metadata": {},
   "outputs": [
    {
     "data": {
      "text/plain": [
       "(3, 4)"
      ]
     },
     "execution_count": 6,
     "metadata": {},
     "output_type": "execute_result"
    }
   ],
   "source": [
    "n = 5\n",
    "data = [\"R\", \"R\", \"R\", \"U\", \"D\", \"D\"]\n",
    "solution(n, data)"
   ]
  },
  {
   "cell_type": "markdown",
   "id": "849c71e2",
   "metadata": {},
   "source": [
    "### 시각"
   ]
  },
  {
   "cell_type": "code",
   "execution_count": 15,
   "id": "bb1e700d",
   "metadata": {},
   "outputs": [],
   "source": [
    "def solution(n):\n",
    "    count = 0\n",
    "    for hour in range(n+1):\n",
    "        for m in range(60):\n",
    "            for s in range(60):\n",
    "                if '3' in str(hour) + str(m) + str(s):\n",
    "                    count += 1\n",
    "    return count"
   ]
  },
  {
   "cell_type": "code",
   "execution_count": 16,
   "id": "70706a0e",
   "metadata": {},
   "outputs": [
    {
     "data": {
      "text/plain": [
       "11475"
      ]
     },
     "execution_count": 16,
     "metadata": {},
     "output_type": "execute_result"
    }
   ],
   "source": [
    "solution(5)"
   ]
  },
  {
   "cell_type": "code",
   "execution_count": 19,
   "id": "c08dbbca",
   "metadata": {},
   "outputs": [],
   "source": [
    "def solution(n):\n",
    "    hour = minute = sec = 0\n",
    "    answer = 0\n",
    "    \n",
    "    while hour < n + 1:\n",
    "        if '3' in str(hour) or '3' in str(minute) or '3' in str(sec):\n",
    "            answer += 1\n",
    "        \n",
    "        sec += 1\n",
    "        if sec == 60:\n",
    "            minute += 1\n",
    "            sec = 0\n",
    "            if minute == 60:\n",
    "                hour += 1\n",
    "                minute = 0\n",
    "                \n",
    "    return answer\n"
   ]
  },
  {
   "cell_type": "code",
   "execution_count": 20,
   "id": "4a20e578",
   "metadata": {},
   "outputs": [
    {
     "data": {
      "text/plain": [
       "11475"
      ]
     },
     "execution_count": 20,
     "metadata": {},
     "output_type": "execute_result"
    }
   ],
   "source": [
    "n = 5\n",
    "solution(5)"
   ]
  },
  {
   "cell_type": "markdown",
   "id": "30b1abf4",
   "metadata": {},
   "source": [
    "### 왕실의 나이트"
   ]
  },
  {
   "cell_type": "code",
   "execution_count": 26,
   "id": "026b1144",
   "metadata": {},
   "outputs": [],
   "source": [
    "def solution(location):\n",
    "    answer = 0\n",
    "    \n",
    "    x = int(ord(location[0]))-int(ord('a'))+1 # column\n",
    "    y = int(location[1]) # row\n",
    "    \n",
    "    # 나이트가 이동할 수 있는 8가지 방향 정의\n",
    "    steps = [(-2,-1),(-1,-2),(1,-2),(2,-1),(2,1),(1,2),(-1,2),(-2,1)]\n",
    "    \n",
    "    for step in steps:\n",
    "        ny = y + step[0]\n",
    "        nx = x + step[1]\n",
    "        if nx>=1 and nx<=8 and ny>=1 and ny<=8:\n",
    "            answer += 1\n",
    "            \n",
    "    print(answer)"
   ]
  },
  {
   "cell_type": "code",
   "execution_count": 27,
   "id": "3ed1b8dd",
   "metadata": {},
   "outputs": [
    {
     "name": "stdout",
     "output_type": "stream",
     "text": [
      "2\n"
     ]
    }
   ],
   "source": [
    "location = \"a1\"\n",
    "solution(location)"
   ]
  },
  {
   "cell_type": "markdown",
   "id": "5ac6ba63",
   "metadata": {},
   "source": [
    "### 게임 개발"
   ]
  },
  {
   "cell_type": "code",
   "execution_count": 38,
   "id": "e6d7af80",
   "metadata": {},
   "outputs": [],
   "source": [
    "def solution(n, m, data, location):\n",
    "    x = location[0]\n",
    "    y = location[1]\n",
    "    direction = location[2]\n",
    "    \n",
    "    # 방문한 위치를 저장하기 위한 맵을 생성하여 0으로 초기화\n",
    "    d = [[0]*m for _ in range(n)]\n",
    "    d[x][y] = 1\n",
    "    \n",
    "    # 북,동,남,서 방향 정의\n",
    "    dx = [-1, 0, 1, 0]\n",
    "    dy = [0, 1, 0, -1]\n",
    "    \n",
    "    # 왼쪽으로 회전\n",
    "    def trun_left():\n",
    "        nonlocal direction # 함수 외부에서 정의 되었기 때문에\n",
    "        direction -= 1\n",
    "        if direction == -1:\n",
    "            direction = 3\n",
    "        \n",
    "    # 시뮬레이션 시작\n",
    "    count = 1\n",
    "    turn_time = 0\n",
    "    while True:\n",
    "        # 왼쪽으로 회전\n",
    "        trun_left()\n",
    "        nx = x + dx[direction]\n",
    "        ny = y + dy[direction]\n",
    "        \n",
    "        # 회전한 이후 정면에 가보지 않은 칸이 존재하는 경우 이동\n",
    "        if d[nx][ny] == 0 and data[nx][ny]==0:\n",
    "            d[nx][ny] = 1\n",
    "            x = nx\n",
    "            y = ny\n",
    "            count += 1\n",
    "            turn_time = 0\n",
    "            continue\n",
    "            \n",
    "        # 회전한 이후 정면에 가보지 않은 칸이 없거나 바다인 경우\n",
    "        else:\n",
    "            turn_time += 1\n",
    "            \n",
    "            # 네 방향 모두 갈 수 없는 경우\n",
    "            if turn_time == 4:\n",
    "                nx = x - dx[direction]\n",
    "                ny = y - dy[direction]\n",
    "                \n",
    "                # 뒤로 갈 수 있다면 이동하기\n",
    "                if data[nx][ny]==0:\n",
    "                    x = nx\n",
    "                    y = ny\n",
    "                \n",
    "                # 뒤로 바다가 막혀있는 경우\n",
    "                else:\n",
    "                    break\n",
    "                turn_time = 0\n",
    "    print(count)"
   ]
  },
  {
   "cell_type": "code",
   "execution_count": 39,
   "id": "ff9f5af5",
   "metadata": {},
   "outputs": [
    {
     "name": "stdout",
     "output_type": "stream",
     "text": [
      "3\n"
     ]
    }
   ],
   "source": [
    "n = m = 4\n",
    "data = [[1,1,1,1],[1,0,0,1],[1,1,0,1],[1,1,1,1]]\n",
    "location = [1,1,0]\n",
    "solution(n,m,data,location)"
   ]
  },
  {
   "cell_type": "markdown",
   "id": "f9753f28",
   "metadata": {},
   "source": [
    "### 럭키 스트레이트"
   ]
  },
  {
   "cell_type": "code",
   "execution_count": 44,
   "id": "6e1b3bd0",
   "metadata": {},
   "outputs": [],
   "source": [
    "def solution(score):\n",
    "    score = str(score)\n",
    "    standard = len(score)//2\n",
    "    \n",
    "    left = score[:standard]\n",
    "    right = score[standard:]\n",
    "    left_score = 0\n",
    "    right_score = 0\n",
    "    \n",
    "    for i in left:\n",
    "        left_score += int(i)\n",
    "        \n",
    "    for j in right:\n",
    "        right_score += int(j)\n",
    "        \n",
    "    if left_score==right_score:\n",
    "        return \"LUCKY\"\n",
    "    else:\n",
    "        return \"READY\""
   ]
  },
  {
   "cell_type": "code",
   "execution_count": 45,
   "id": "a6a4ef0f",
   "metadata": {},
   "outputs": [
    {
     "data": {
      "text/plain": [
       "'LUCKY'"
      ]
     },
     "execution_count": 45,
     "metadata": {},
     "output_type": "execute_result"
    }
   ],
   "source": [
    "solution(123402)"
   ]
  },
  {
   "cell_type": "code",
   "execution_count": 46,
   "id": "0437bcc9",
   "metadata": {},
   "outputs": [
    {
     "data": {
      "text/plain": [
       "'READY'"
      ]
     },
     "execution_count": 46,
     "metadata": {},
     "output_type": "execute_result"
    }
   ],
   "source": [
    "solution(7755)"
   ]
  },
  {
   "cell_type": "code",
   "execution_count": 49,
   "id": "e42dade5",
   "metadata": {},
   "outputs": [],
   "source": [
    "def solution_leecote(n):\n",
    "    n = str(n)\n",
    "    length = len(n)\n",
    "    summary = 0\n",
    "    \n",
    "    # 왼쪽 부분의 자릿수 합 더하기\n",
    "    for i in range(length//2):\n",
    "        summary += int(n[i])\n",
    "    \n",
    "    # 오른쪽 부분의 자릿수 합 빼기\n",
    "    for i in range(length//2, length):\n",
    "        summary -= int(n[i])\n",
    "        \n",
    "    if summary==0:\n",
    "        print(\"LUCKY\")\n",
    "    else:\n",
    "        print(\"READY\")"
   ]
  },
  {
   "cell_type": "code",
   "execution_count": 50,
   "id": "75cae25b",
   "metadata": {},
   "outputs": [
    {
     "name": "stdout",
     "output_type": "stream",
     "text": [
      "LUCKY\n"
     ]
    }
   ],
   "source": [
    "solution_leecote(123402)"
   ]
  },
  {
   "cell_type": "markdown",
   "id": "e52d2030",
   "metadata": {},
   "source": [
    "### 문자열 재정렬"
   ]
  },
  {
   "cell_type": "code",
   "execution_count": 57,
   "id": "aa523118",
   "metadata": {},
   "outputs": [],
   "source": [
    "def solution(array):\n",
    "    \n",
    "    alpha = ''\n",
    "    number = ''\n",
    "    \n",
    "    for i in range(len(array)):\n",
    "        if array[i].isdigit():\n",
    "            number += array[i]\n",
    "        else:\n",
    "            alpha += array[i]\n",
    "            \n",
    "    string = [j for j in alpha]\n",
    "    string.sort()\n",
    "    num = [int(i) for i in number]\n",
    "    \n",
    "    return ''.join(string)+str(sum(num))"
   ]
  },
  {
   "cell_type": "code",
   "execution_count": 58,
   "id": "eb56f2cd",
   "metadata": {},
   "outputs": [
    {
     "data": {
      "text/plain": [
       "'ABCKK13'"
      ]
     },
     "execution_count": 58,
     "metadata": {},
     "output_type": "execute_result"
    }
   ],
   "source": [
    "array = 'K1KA5CB7'\n",
    "solution(array)"
   ]
  },
  {
   "cell_type": "code",
   "execution_count": 59,
   "id": "34a2ff1a",
   "metadata": {},
   "outputs": [
    {
     "data": {
      "text/plain": [
       "'ADDIJJJKKLSS20'"
      ]
     },
     "execution_count": 59,
     "metadata": {},
     "output_type": "execute_result"
    }
   ],
   "source": [
    "array = 'AJKDLSI412K4JSJ9D'\n",
    "solution(array)"
   ]
  },
  {
   "cell_type": "markdown",
   "id": "be032e45",
   "metadata": {},
   "source": [
    "### 문자열 압축"
   ]
  },
  {
   "cell_type": "code",
   "execution_count": null,
   "id": "1476a2e0",
   "metadata": {},
   "outputs": [],
   "source": []
  },
  {
   "cell_type": "code",
   "execution_count": null,
   "id": "379712fb",
   "metadata": {},
   "outputs": [],
   "source": []
  },
  {
   "cell_type": "code",
   "execution_count": null,
   "id": "eb047b10",
   "metadata": {},
   "outputs": [],
   "source": []
  },
  {
   "cell_type": "code",
   "execution_count": null,
   "id": "f2287375",
   "metadata": {},
   "outputs": [],
   "source": []
  },
  {
   "cell_type": "code",
   "execution_count": null,
   "id": "3bae83fe",
   "metadata": {},
   "outputs": [],
   "source": []
  },
  {
   "cell_type": "code",
   "execution_count": null,
   "id": "cd1eedce",
   "metadata": {},
   "outputs": [],
   "source": []
  },
  {
   "cell_type": "code",
   "execution_count": null,
   "id": "6d06ec7f",
   "metadata": {},
   "outputs": [],
   "source": []
  },
  {
   "cell_type": "code",
   "execution_count": null,
   "id": "e5c76543",
   "metadata": {},
   "outputs": [],
   "source": []
  },
  {
   "cell_type": "code",
   "execution_count": null,
   "id": "9dbc4ae4",
   "metadata": {},
   "outputs": [],
   "source": []
  },
  {
   "cell_type": "code",
   "execution_count": null,
   "id": "718f5366",
   "metadata": {},
   "outputs": [],
   "source": []
  }
 ],
 "metadata": {
  "kernelspec": {
   "display_name": "Python 3 (ipykernel)",
   "language": "python",
   "name": "python3"
  },
  "language_info": {
   "codemirror_mode": {
    "name": "ipython",
    "version": 3
   },
   "file_extension": ".py",
   "mimetype": "text/x-python",
   "name": "python",
   "nbconvert_exporter": "python",
   "pygments_lexer": "ipython3",
   "version": "3.9.7"
  }
 },
 "nbformat": 4,
 "nbformat_minor": 5
}
