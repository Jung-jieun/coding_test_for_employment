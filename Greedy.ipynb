{
 "cells": [
  {
   "cell_type": "markdown",
   "id": "80762529",
   "metadata": {},
   "source": [
    "### 거스름돈"
   ]
  },
  {
   "cell_type": "code",
   "execution_count": 3,
   "id": "af5f8823",
   "metadata": {},
   "outputs": [
    {
     "name": "stdout",
     "output_type": "stream",
     "text": [
      "6\n"
     ]
    }
   ],
   "source": [
    "n = 1260\n",
    "count = 0\n",
    "# 큰 단위의 화폐부터 차례대로 확인\n",
    "coin_types = [500,100,50,10]\n",
    "\n",
    "for coin in coin_types:\n",
    "    count += n//coin # 해당 화폐로 거슬러 줄 수 있는 동전 세기\n",
    "    n %= coin\n",
    "    \n",
    "print(count)"
   ]
  },
  {
   "cell_type": "markdown",
   "id": "226514f6",
   "metadata": {},
   "source": [
    "### 큰 수의 법칙"
   ]
  },
  {
   "cell_type": "code",
   "execution_count": 5,
   "id": "d338f2a0",
   "metadata": {},
   "outputs": [],
   "source": [
    "def solution(n,m,k,num):\n",
    "    num.sort(reverse=True)\n",
    "    num_1 = num[0]\n",
    "    num_2 = num[1]\n",
    "    answer = num_1*k*(m//k) + num_2*(m%k)\n",
    "    return answer"
   ]
  },
  {
   "cell_type": "code",
   "execution_count": 6,
   "id": "166b30eb",
   "metadata": {},
   "outputs": [
    {
     "name": "stdout",
     "output_type": "stream",
     "text": [
      "46\n"
     ]
    }
   ],
   "source": [
    "num = [2,4,5,4,6]\n",
    "print(solution(5,8,3,num))"
   ]
  },
  {
   "cell_type": "code",
   "execution_count": 3,
   "id": "d8fb15bc",
   "metadata": {},
   "outputs": [],
   "source": [
    "def solution(n,m,k,num):\n",
    "    num.sort(reverse=True)\n",
    "    num_1 = num[0]\n",
    "    num_2 = num[1]\n",
    "    \n",
    "    # 가장 큰 숫자가 더해지는 횟수\n",
    "    first = (m//(k+1))*k + m%(k+1)\n",
    "    second = m-first\n",
    "    answer = num_1*first + second*num_2\n",
    "    return answer"
   ]
  },
  {
   "cell_type": "code",
   "execution_count": 4,
   "id": "cda896a4",
   "metadata": {},
   "outputs": [
    {
     "name": "stdout",
     "output_type": "stream",
     "text": [
      "46\n"
     ]
    }
   ],
   "source": [
    "num = [2,4,5,4,6]\n",
    "print(solution(5,8,3,num))"
   ]
  },
  {
   "cell_type": "markdown",
   "id": "8268130c",
   "metadata": {},
   "source": [
    "### 숫자 카드 게임"
   ]
  },
  {
   "cell_type": "code",
   "execution_count": 19,
   "id": "485a0449",
   "metadata": {},
   "outputs": [
    {
     "name": "stdout",
     "output_type": "stream",
     "text": [
      "[[3, 1, 2], [4, 1, 4], [2, 2, 2]]\n"
     ]
    }
   ],
   "source": [
    "num = [[3,1,2],[4,1,4],[2,2,2]]\n",
    "print(num)"
   ]
  },
  {
   "cell_type": "code",
   "execution_count": 25,
   "id": "509ef3de",
   "metadata": {},
   "outputs": [],
   "source": [
    "def solution(n,m,num):\n",
    "    result = []\n",
    "    for i in range(n): # 행마다 반복\n",
    "        min_value = min(num[i])\n",
    "        result.append(min_value)\n",
    "    return max(result)"
   ]
  },
  {
   "cell_type": "code",
   "execution_count": 26,
   "id": "4058ce82",
   "metadata": {},
   "outputs": [
    {
     "data": {
      "text/plain": [
       "2"
      ]
     },
     "execution_count": 26,
     "metadata": {},
     "output_type": "execute_result"
    }
   ],
   "source": [
    "solution(3,3,num)"
   ]
  },
  {
   "cell_type": "code",
   "execution_count": 27,
   "id": "01150e0b",
   "metadata": {},
   "outputs": [],
   "source": [
    "def solution(n,m,num):\n",
    "    result = []\n",
    "    for i in range(n):\n",
    "        for j in num:\n",
    "            min_value = min(j)\n",
    "            result.append(min_value)\n",
    "    return max(result)"
   ]
  },
  {
   "cell_type": "code",
   "execution_count": 28,
   "id": "79ccd0bf",
   "metadata": {},
   "outputs": [
    {
     "data": {
      "text/plain": [
       "2"
      ]
     },
     "execution_count": 28,
     "metadata": {},
     "output_type": "execute_result"
    }
   ],
   "source": [
    "solution(3,3,num)"
   ]
  },
  {
   "cell_type": "markdown",
   "id": "4e3a02b1",
   "metadata": {},
   "source": [
    "### 1이 될 때까지"
   ]
  },
  {
   "cell_type": "code",
   "execution_count": 35,
   "id": "bc47b020",
   "metadata": {},
   "outputs": [],
   "source": [
    "def solution(n,k):\n",
    "    answer = 0\n",
    "    while n!=1:\n",
    "        if n%k!=0:\n",
    "            n = n-1\n",
    "            answer += 1\n",
    "        else:\n",
    "            n = n//k\n",
    "            answer += 1\n",
    "    return answer"
   ]
  },
  {
   "cell_type": "code",
   "execution_count": 36,
   "id": "f9cab0c4",
   "metadata": {},
   "outputs": [
    {
     "data": {
      "text/plain": [
       "2"
      ]
     },
     "execution_count": 36,
     "metadata": {},
     "output_type": "execute_result"
    }
   ],
   "source": [
    "solution(25,5)"
   ]
  },
  {
   "cell_type": "code",
   "execution_count": 37,
   "id": "34d4b19f",
   "metadata": {},
   "outputs": [
    {
     "data": {
      "text/plain": [
       "6"
      ]
     },
     "execution_count": 37,
     "metadata": {},
     "output_type": "execute_result"
    }
   ],
   "source": [
    "solution(25,3)"
   ]
  },
  {
   "cell_type": "code",
   "execution_count": 40,
   "id": "456959cd",
   "metadata": {},
   "outputs": [],
   "source": [
    "def solution(n,k):\n",
    "    result = 0\n",
    "    while True:\n",
    "        \n",
    "        # n==k로 나누어떨어지는 수가 될 때까지 1씩 빼기\n",
    "        target = (n//k)*k # 24\n",
    "        result += (n-target) # 1\n",
    "        n = target \n",
    "        \n",
    "        # n이 k보다 작을 때 반복분 탈출\n",
    "        if n<k:\n",
    "            break\n",
    "        result += 1 # 2\n",
    "        n //= k # 8\n",
    "        \n",
    "    # 마지막으로 남은 수에 대하여 1씩 빼기    \n",
    "    result += (n-1)\n",
    "    return result"
   ]
  },
  {
   "cell_type": "code",
   "execution_count": 41,
   "id": "3d98799e",
   "metadata": {},
   "outputs": [
    {
     "data": {
      "text/plain": [
       "6"
      ]
     },
     "execution_count": 41,
     "metadata": {},
     "output_type": "execute_result"
    }
   ],
   "source": [
    "solution(25,3)"
   ]
  },
  {
   "cell_type": "markdown",
   "id": "f40217e4",
   "metadata": {},
   "source": [
    "### Q1. 모험가 길드"
   ]
  },
  {
   "cell_type": "code",
   "execution_count": 42,
   "id": "6c56bc0f",
   "metadata": {},
   "outputs": [],
   "source": [
    "num = [2,3,1,2,2]"
   ]
  },
  {
   "cell_type": "code",
   "execution_count": 49,
   "id": "838aa2e5",
   "metadata": {},
   "outputs": [],
   "source": [
    "def solution(n, num):\n",
    "    num.sort()\n",
    "    result = 0\n",
    "    count = 0\n",
    "    \n",
    "    for i in num:\n",
    "        count += 1\n",
    "        if count >= i:\n",
    "            result += 1\n",
    "            count = 0\n",
    "            \n",
    "    return result"
   ]
  },
  {
   "cell_type": "code",
   "execution_count": 50,
   "id": "55b98629",
   "metadata": {},
   "outputs": [
    {
     "name": "stdout",
     "output_type": "stream",
     "text": [
      "2\n"
     ]
    }
   ],
   "source": [
    "solution(5, num)"
   ]
  },
  {
   "cell_type": "markdown",
   "id": "c6080c10",
   "metadata": {},
   "source": [
    "### Q2. 곱하기 혹은 더하기"
   ]
  },
  {
   "cell_type": "code",
   "execution_count": 4,
   "id": "94f7f810",
   "metadata": {},
   "outputs": [],
   "source": [
    "def solution(s):\n",
    "    num = []\n",
    "    for i in range(len(s)):\n",
    "        num.append(int(s[i]))\n",
    "        \n",
    "    answer = num[0]\n",
    "    for j in range(1,len(num)):\n",
    "        if num[j]<=1 or answer<=1:\n",
    "            answer += num[j]\n",
    "        else:\n",
    "            answer *= num[j]\n",
    "            \n",
    "    return answer"
   ]
  },
  {
   "cell_type": "code",
   "execution_count": 5,
   "id": "f45ae677",
   "metadata": {},
   "outputs": [
    {
     "data": {
      "text/plain": [
       "576"
      ]
     },
     "execution_count": 5,
     "metadata": {},
     "output_type": "execute_result"
    }
   ],
   "source": [
    "s = \"02984\"\n",
    "solution(s)"
   ]
  },
  {
   "cell_type": "code",
   "execution_count": 6,
   "id": "b5291bb9",
   "metadata": {},
   "outputs": [
    {
     "data": {
      "text/plain": [
       "210"
      ]
     },
     "execution_count": 6,
     "metadata": {},
     "output_type": "execute_result"
    }
   ],
   "source": [
    "s = \"567\"\n",
    "solution(s)"
   ]
  },
  {
   "cell_type": "markdown",
   "id": "61a1bd34",
   "metadata": {},
   "source": [
    "### Q3. 문자열 뒤집기"
   ]
  },
  {
   "cell_type": "code",
   "execution_count": 11,
   "id": "5ceeaca7",
   "metadata": {},
   "outputs": [],
   "source": [
    "def solution(s):\n",
    "    \n",
    "    count_0 = 0\n",
    "    count_1 = 0\n",
    "\n",
    "    # 첫 번째 원소\n",
    "    if s[0]=='1':\n",
    "        count_0 += 1\n",
    "    else:\n",
    "        count_1 += 1\n",
    "    \n",
    "    # 모두 0으로 바꾸는 경우\n",
    "    for i in range(len(s)-1):\n",
    "        if s[i] != s[i+1]:\n",
    "            if s[i+1]=='1':\n",
    "                count_0 += 1\n",
    "            else:\n",
    "                count_1 += 1\n",
    "    return min(count_0, count_1)"
   ]
  },
  {
   "cell_type": "code",
   "execution_count": 10,
   "id": "6158d178",
   "metadata": {},
   "outputs": [
    {
     "data": {
      "text/plain": [
       "1"
      ]
     },
     "execution_count": 10,
     "metadata": {},
     "output_type": "execute_result"
    }
   ],
   "source": [
    "s = \"0001100\"\n",
    "solution(s)"
   ]
  },
  {
   "cell_type": "markdown",
   "id": "891b926a",
   "metadata": {},
   "source": [
    "### Q4. 만들 수 없는 금액"
   ]
  },
  {
   "cell_type": "code",
   "execution_count": 4,
   "id": "4402aca1",
   "metadata": {},
   "outputs": [],
   "source": [
    "coin_types = [3,2,1,1,9]"
   ]
  },
  {
   "cell_type": "code",
   "execution_count": 5,
   "id": "28d093b7",
   "metadata": {},
   "outputs": [],
   "source": [
    "def solution(n, coin_types):\n",
    "    coin_types.sort()\n",
    "    answer = 0\n",
    "    if coin_types[0]==1:\n",
    "        answer = coin_types[-1]-coin_types[0]\n",
    "    else:\n",
    "        answer = 1\n",
    "    return answer"
   ]
  },
  {
   "cell_type": "code",
   "execution_count": 6,
   "id": "456a1b6f",
   "metadata": {},
   "outputs": [
    {
     "data": {
      "text/plain": [
       "8"
      ]
     },
     "execution_count": 6,
     "metadata": {},
     "output_type": "execute_result"
    }
   ],
   "source": [
    "solution(5, coin_types)"
   ]
  },
  {
   "cell_type": "code",
   "execution_count": 7,
   "id": "ed341d8e",
   "metadata": {},
   "outputs": [
    {
     "data": {
      "text/plain": [
       "1"
      ]
     },
     "execution_count": 7,
     "metadata": {},
     "output_type": "execute_result"
    }
   ],
   "source": [
    "coin_types = [3,5,7]\n",
    "solution(3, coin_types)"
   ]
  },
  {
   "cell_type": "code",
   "execution_count": 17,
   "id": "48b31df5",
   "metadata": {},
   "outputs": [],
   "source": [
    "def solution(n, coin_types):\n",
    "    coin_types.sort()\n",
    "    answer = 1\n",
    "    for i in coin_types:\n",
    "        if answer < i:\n",
    "            break\n",
    "        answer += i\n",
    "    return answer"
   ]
  },
  {
   "cell_type": "code",
   "execution_count": 18,
   "id": "5792d834",
   "metadata": {},
   "outputs": [
    {
     "data": {
      "text/plain": [
       "1"
      ]
     },
     "execution_count": 18,
     "metadata": {},
     "output_type": "execute_result"
    }
   ],
   "source": [
    "coin_types = [3,5,7]\n",
    "solution(3, coin_types)"
   ]
  },
  {
   "cell_type": "markdown",
   "id": "0151c37b",
   "metadata": {},
   "source": [
    "### Q5. 볼링공 고르기"
   ]
  },
  {
   "cell_type": "code",
   "execution_count": 13,
   "id": "c9b140b9",
   "metadata": {},
   "outputs": [],
   "source": [
    "def solution(n,m,ball):\n",
    "    answer = 0\n",
    "    for i in range(len(ball)-1):\n",
    "        for j in range(i+1,len(ball)):\n",
    "            if ball[i]!=ball[j]:\n",
    "                answer += 1\n",
    "            \n",
    "    return answer"
   ]
  },
  {
   "cell_type": "code",
   "execution_count": 14,
   "id": "4cc9ac18",
   "metadata": {},
   "outputs": [
    {
     "data": {
      "text/plain": [
       "8"
      ]
     },
     "execution_count": 14,
     "metadata": {},
     "output_type": "execute_result"
    }
   ],
   "source": [
    "ball = [1,3,2,3,2]\n",
    "solution(5,3, ball)"
   ]
  },
  {
   "cell_type": "code",
   "execution_count": 15,
   "id": "dc5359b5",
   "metadata": {},
   "outputs": [
    {
     "data": {
      "text/plain": [
       "25"
      ]
     },
     "execution_count": 15,
     "metadata": {},
     "output_type": "execute_result"
    }
   ],
   "source": [
    "ball = [1,5,4,3,2,4,5,2]\n",
    "solution(8,5,ball)"
   ]
  },
  {
   "cell_type": "code",
   "execution_count": 18,
   "id": "ed6b9a21",
   "metadata": {},
   "outputs": [],
   "source": [
    "def solution(n, m, ball):\n",
    "    array = [0]*11\n",
    "\n",
    "    for x in ball:\n",
    "        array[x] += 1\n",
    "\n",
    "    result = 0\n",
    "    for i in range(1, m+1):\n",
    "        n -= array[i]\n",
    "        result += array[i] * n\n",
    "    \n",
    "    print(result)"
   ]
  },
  {
   "cell_type": "code",
   "execution_count": 19,
   "id": "eda1de63",
   "metadata": {},
   "outputs": [
    {
     "name": "stdout",
     "output_type": "stream",
     "text": [
      "8\n"
     ]
    }
   ],
   "source": [
    "ball = [1,3,2,3,2]\n",
    "solution(5,3, ball)"
   ]
  },
  {
   "cell_type": "markdown",
   "id": "b631828b",
   "metadata": {},
   "source": [
    "### Q6. 무지의 먹방 라이브"
   ]
  },
  {
   "cell_type": "code",
   "execution_count": 30,
   "id": "1d78eba0",
   "metadata": {},
   "outputs": [],
   "source": [
    "def solution(food_times, k):\n",
    "    result = 0\n",
    "    time = 0\n",
    "    while time>k:\n",
    "        for i in range(len(food_times)):\n",
    "            if food_times[i]!=0:\n",
    "                food_times[i] = foold_times[i]-1\n",
    "                time +=1\n",
    "            else:\n",
    "                food_times[::-1] = food\n",
    "    result = time%len(food_times)+1\n",
    "    return result"
   ]
  },
  {
   "cell_type": "code",
   "execution_count": 31,
   "id": "3d2eff06",
   "metadata": {},
   "outputs": [
    {
     "data": {
      "text/plain": [
       "1"
      ]
     },
     "execution_count": 31,
     "metadata": {},
     "output_type": "execute_result"
    }
   ],
   "source": [
    "food_times = [3,1,2]\n",
    "solution(food_times, 5)"
   ]
  },
  {
   "cell_type": "code",
   "execution_count": 32,
   "id": "668aa071",
   "metadata": {},
   "outputs": [
    {
     "data": {
      "text/plain": [
       "1"
      ]
     },
     "execution_count": 32,
     "metadata": {},
     "output_type": "execute_result"
    }
   ],
   "source": [
    "food_times = [8,6,4]\n",
    "solution(food_times, 15)"
   ]
  },
  {
   "cell_type": "code",
   "execution_count": null,
   "id": "2fc014b5",
   "metadata": {},
   "outputs": [],
   "source": []
  },
  {
   "cell_type": "code",
   "execution_count": null,
   "id": "f377d72e",
   "metadata": {},
   "outputs": [],
   "source": []
  }
 ],
 "metadata": {
  "kernelspec": {
   "display_name": "Python 3 (ipykernel)",
   "language": "python",
   "name": "python3"
  },
  "language_info": {
   "codemirror_mode": {
    "name": "ipython",
    "version": 3
   },
   "file_extension": ".py",
   "mimetype": "text/x-python",
   "name": "python",
   "nbconvert_exporter": "python",
   "pygments_lexer": "ipython3",
   "version": "3.9.7"
  }
 },
 "nbformat": 4,
 "nbformat_minor": 5
}
